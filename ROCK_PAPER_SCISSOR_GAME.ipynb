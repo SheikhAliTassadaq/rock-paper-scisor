{
  "cells": [
    {
      "cell_type": "markdown",
      "metadata": {
        "id": "view-in-github",
        "colab_type": "text"
      },
      "source": [
        "<a href=\"https://colab.research.google.com/github/SheikhAliTassadaq/rock-paper-scisor/blob/main/ROCK_PAPER_SCISSOR_GAME.ipynb\" target=\"_parent\"><img src=\"https://colab.research.google.com/assets/colab-badge.svg\" alt=\"Open In Colab\"/></a>"
      ]
    },
    {
      "cell_type": "code",
      "execution_count": 11,
      "metadata": {
        "id": "zqrKqZzyp4a1",
        "colab": {
          "base_uri": "https://localhost:8080/"
        },
        "outputId": "3e5e2adb-8960-46e7-de3d-4c5c7676d446"
      },
      "outputs": [
        {
          "output_type": "stream",
          "name": "stdout",
          "text": [
            "rock paper or scissorsrock\n",
            "computer : paper\n",
            "player : rock\n",
            "you lose!\n",
            "play again? (y/n)n\n",
            "Thanks for playing\n"
          ]
        }
      ],
      "source": [
        "import random\n",
        "while True:\n",
        "\n",
        "  choices = ['rock', 'paper' , 'scissors']\n",
        "\n",
        "  computer = random.choice(choices)\n",
        "  player = None\n",
        "  while player not in choices:\n",
        "    player = input(\"rock paper or scissors\")\n",
        "  if player == computer:\n",
        "    print(\"computer :\", computer)\n",
        "    print(\"player :\" , player)\n",
        "    print(\"TIE!\")\n",
        "  elif player == \"rock\":\n",
        "\n",
        "    if computer == \"paper\":\n",
        "      print(\"computer :\", computer)\n",
        "      print(\"player :\" , player)\n",
        "      print(\"you lose!\")\n",
        "    if computer == \"scissors\":\n",
        "      print(\"computer :\", computer)\n",
        "      print(\"player :\" , player)\n",
        "      print(\"you win!\")\n",
        "  elif player == \"paper\":\n",
        "    if computer == \"rock\":\n",
        "      print(\"computer :\", computer)\n",
        "      print(\"player :\" , player)\n",
        "      print(\"you win!\")\n",
        "    if computer == \"scissors\":\n",
        "      print(\"computer :\", computer)\n",
        "      print(\"player :\" , player)\n",
        "      print(\"you lose!\")\n",
        "  elif player == \"scissors\":\n",
        "    if computer == \"paper\":\n",
        "      print(\"computer :\", computer)\n",
        "      print(\"player :\" , player)\n",
        "      print(\"you lose!\")\n",
        "    if computer == \"rock\":\n",
        "      print(\"computer :\", computer)\n",
        "      print(\"player :\" , player)\n",
        "      print(\"you win!\")\n",
        "  play_again = input(\"play again? (y/n)\")\n",
        "  if play_again != \"y\":\n",
        "    break\n",
        "print(\"Thanks for playing\")\n"
      ]
    },
    {
      "cell_type": "code",
      "source": [],
      "metadata": {
        "id": "Nee_kcUBSrDy"
      },
      "execution_count": null,
      "outputs": []
    }
  ],
  "metadata": {
    "colab": {
      "provenance": [],
      "authorship_tag": "ABX9TyPhIWEuc/aMnivL7AlqWkHY",
      "include_colab_link": true
    },
    "kernelspec": {
      "display_name": "Python 3",
      "name": "python3"
    },
    "language_info": {
      "name": "python"
    }
  },
  "nbformat": 4,
  "nbformat_minor": 0
}